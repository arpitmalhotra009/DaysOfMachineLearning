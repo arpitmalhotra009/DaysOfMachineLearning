{
 "cells": [
  {
   "cell_type": "markdown",
   "metadata": {},
   "source": [
    "# Business Problem:\n",
    "Real industrial flotation process (mining plant)\n",
    "Collection methodology\n",
    "\n",
    "Hardware sensors, like temperature, pH, flow, density and all continuous process variables, where data were collected every 20s with no transformation (the dataset here shows raw data). Quality variables, like % of silica content, % of iron ore content and so on are quality measurements made by laboratory analysis. A sample of the iron ore pulp is collected in the field/shop floor, every 15 minutes. Those samples are sent to lab for analysis. So, on every two hours, lab give a feedback of quality analysis, in other words, only every two hours you have a lab/quality measurement of the product stream (iron ore concentrate), which gives you a sense of the quality of the product (iron ore pulp concentrate).\n",
    "\n",
    "The main goal is to use this data to predict how much impurity is in the ore concentrate. As this impurity is measured every hour, if we can predict how much silica (impurity) is in the ore concentrate, we can help the engineers, giving them early information to take actions (empowering!). Hence, they will be able to take corrective actions in advance (reduce impurity, if it is the case) and also help the environment (reducing the amount of ore that goes to tailings as you reduce silica in the ore concentrate)\n",
    "\n",
    "The second and third columns are quality measures of the iron ore pulp right before it is fed into the flotation plant. Column 4 until column 8 are the most important variables that impact in the ore quality in the end of the process. From column 9 until column 22, we can see process data (level and air flow inside the flotation columns, which also impact in ore quality. The last two columns are the final iron ore pulp quality measurement from the lab.\n",
    "Target is to predict the last column, which is the % of silica in the iron ore concentrate."
   ]
  },
  {
   "cell_type": "markdown",
   "metadata": {},
   "source": [
    "# Summary\n",
    "This dataset is about a flotation plant which is a process used to concentrate the iron ore. This process is very common in a mining plant.\n",
    "\n",
    "# Goal of this dataset\n",
    "The target is to predict the % of Silica in the end of the process, which is the concentrate of iron ore and its impurity (which is the % of Silica).\n",
    "\n",
    "# Why prediction is needed\n",
    "Although the % of Silica is measured (last column), its a lab measurement, which means that it takes at least one hour for the process engineers to have this value. So if it is posible to predict the amount of impurity in the process"
   ]
  },
  {
   "cell_type": "code",
   "execution_count": 1,
   "metadata": {},
   "outputs": [],
   "source": [
    "import pandas as pd\n",
    "import numpy as np\n",
    "import seaborn as sns\n",
    "import matplotlib.pyplot as plt"
   ]
  },
  {
   "cell_type": "code",
   "execution_count": 3,
   "metadata": {},
   "outputs": [],
   "source": [
    "df = pd.read_csv('mining_data.csv')"
   ]
  },
  {
   "cell_type": "code",
   "execution_count": 4,
   "metadata": {},
   "outputs": [
    {
     "name": "stdout",
     "output_type": "stream",
     "text": [
      "<class 'pandas.core.frame.DataFrame'>\n",
      "RangeIndex: 245700 entries, 0 to 245699\n",
      "Data columns (total 23 columns):\n",
      " #   Column                        Non-Null Count   Dtype  \n",
      "---  ------                        --------------   -----  \n",
      " 0   % Iron Feed                   245700 non-null  float64\n",
      " 1   % Silica Feed                 245700 non-null  float64\n",
      " 2   Starch Flow                   245700 non-null  float64\n",
      " 3   Amina Flow                    245700 non-null  float64\n",
      " 4   Ore Pulp Flow                 245700 non-null  float64\n",
      " 5   Ore Pulp pH                   245700 non-null  float64\n",
      " 6   Ore Pulp Density              245700 non-null  float64\n",
      " 7   Flotation Column 01 Air Flow  245700 non-null  float64\n",
      " 8   Flotation Column 02 Air Flow  245700 non-null  float64\n",
      " 9   Flotation Column 03 Air Flow  245700 non-null  float64\n",
      " 10  Flotation Column 04 Air Flow  245700 non-null  float64\n",
      " 11  Flotation Column 05 Air Flow  245700 non-null  float64\n",
      " 12  Flotation Column 06 Air Flow  245700 non-null  float64\n",
      " 13  Flotation Column 07 Air Flow  245700 non-null  float64\n",
      " 14  Flotation Column 01 Level     245700 non-null  float64\n",
      " 15  Flotation Column 02 Level     245700 non-null  float64\n",
      " 16  Flotation Column 03 Level     245700 non-null  float64\n",
      " 17  Flotation Column 04 Level     245700 non-null  float64\n",
      " 18  Flotation Column 05 Level     245700 non-null  float64\n",
      " 19  Flotation Column 06 Level     245700 non-null  float64\n",
      " 20  Flotation Column 07 Level     245700 non-null  float64\n",
      " 21  % Iron Concentrate            245700 non-null  float64\n",
      " 22  % Silica Concentrate          245700 non-null  float64\n",
      "dtypes: float64(23)\n",
      "memory usage: 43.1 MB\n"
     ]
    }
   ],
   "source": [
    "df.info()"
   ]
  },
  {
   "cell_type": "code",
   "execution_count": null,
   "metadata": {},
   "outputs": [],
   "source": []
  }
 ],
 "metadata": {
  "kernelspec": {
   "display_name": "Python 3",
   "language": "python",
   "name": "python3"
  },
  "language_info": {
   "codemirror_mode": {
    "name": "ipython",
    "version": 3
   },
   "file_extension": ".py",
   "mimetype": "text/x-python",
   "name": "python",
   "nbconvert_exporter": "python",
   "pygments_lexer": "ipython3",
   "version": "3.7.6"
  }
 },
 "nbformat": 4,
 "nbformat_minor": 4
}
