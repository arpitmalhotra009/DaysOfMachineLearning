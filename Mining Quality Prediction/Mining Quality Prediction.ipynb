{
 "cells": [
  {
   "cell_type": "code",
   "execution_count": 1,
   "metadata": {},
   "outputs": [],
   "source": [
    "import pandas as pd\n",
    "import numpy as np\n",
    "import seaborn as sns\n",
    "import matplotlib.pyplot as plt"
   ]
  },
  {
   "cell_type": "code",
   "execution_count": 3,
   "metadata": {},
   "outputs": [],
   "source": [
    "df = pd.read_csv('mining_data.csv')"
   ]
  },
  {
   "cell_type": "code",
   "execution_count": 4,
   "metadata": {},
   "outputs": [
    {
     "name": "stdout",
     "output_type": "stream",
     "text": [
      "<class 'pandas.core.frame.DataFrame'>\n",
      "RangeIndex: 245700 entries, 0 to 245699\n",
      "Data columns (total 23 columns):\n",
      " #   Column                        Non-Null Count   Dtype  \n",
      "---  ------                        --------------   -----  \n",
      " 0   % Iron Feed                   245700 non-null  float64\n",
      " 1   % Silica Feed                 245700 non-null  float64\n",
      " 2   Starch Flow                   245700 non-null  float64\n",
      " 3   Amina Flow                    245700 non-null  float64\n",
      " 4   Ore Pulp Flow                 245700 non-null  float64\n",
      " 5   Ore Pulp pH                   245700 non-null  float64\n",
      " 6   Ore Pulp Density              245700 non-null  float64\n",
      " 7   Flotation Column 01 Air Flow  245700 non-null  float64\n",
      " 8   Flotation Column 02 Air Flow  245700 non-null  float64\n",
      " 9   Flotation Column 03 Air Flow  245700 non-null  float64\n",
      " 10  Flotation Column 04 Air Flow  245700 non-null  float64\n",
      " 11  Flotation Column 05 Air Flow  245700 non-null  float64\n",
      " 12  Flotation Column 06 Air Flow  245700 non-null  float64\n",
      " 13  Flotation Column 07 Air Flow  245700 non-null  float64\n",
      " 14  Flotation Column 01 Level     245700 non-null  float64\n",
      " 15  Flotation Column 02 Level     245700 non-null  float64\n",
      " 16  Flotation Column 03 Level     245700 non-null  float64\n",
      " 17  Flotation Column 04 Level     245700 non-null  float64\n",
      " 18  Flotation Column 05 Level     245700 non-null  float64\n",
      " 19  Flotation Column 06 Level     245700 non-null  float64\n",
      " 20  Flotation Column 07 Level     245700 non-null  float64\n",
      " 21  % Iron Concentrate            245700 non-null  float64\n",
      " 22  % Silica Concentrate          245700 non-null  float64\n",
      "dtypes: float64(23)\n",
      "memory usage: 43.1 MB\n"
     ]
    }
   ],
   "source": [
    "df.info()"
   ]
  },
  {
   "cell_type": "code",
   "execution_count": null,
   "metadata": {},
   "outputs": [],
   "source": []
  }
 ],
 "metadata": {
  "kernelspec": {
   "display_name": "Python 3",
   "language": "python",
   "name": "python3"
  },
  "language_info": {
   "codemirror_mode": {
    "name": "ipython",
    "version": 3
   },
   "file_extension": ".py",
   "mimetype": "text/x-python",
   "name": "python",
   "nbconvert_exporter": "python",
   "pygments_lexer": "ipython3",
   "version": "3.7.6"
  }
 },
 "nbformat": 4,
 "nbformat_minor": 4
}
