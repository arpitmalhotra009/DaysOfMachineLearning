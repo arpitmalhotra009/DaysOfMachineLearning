{
 "cells": [
  {
   "cell_type": "markdown",
   "metadata": {},
   "source": [
    "# Project: Univariate Linear Regression\n",
    "\n",
    "* **Business Understanding Phase:**\n",
    "    In this Project we want to model how Profit in Bike Sharing Business Increases with the increase in Population in the City.\n",
    "\n",
    "* **Data Understanding Phase:**\n",
    "    The Data Consists of a Profit in Dollars of Bike Sharing Business with respect to the Population in that City.\n",
    "    \n",
    "### Lets us take a look at the data\n"
   ]
  },
  {
   "cell_type": "code",
   "execution_count": 1,
   "metadata": {},
   "outputs": [],
   "source": [
    "# importing necessary Libraries\n",
    "import matplotlib.pyplot as plt #Data Visualization Library\n",
    "import numpy as np  #High Level Library for Linear Alegbra related operations and manupilation\n",
    "import pandas as pd  #High Level Library for Data Wrangling, Manupilation, viewing etc\n",
    "import seaborn as sns # High Level Data Visualization Library built on Matplotlib library\n",
    "plt.style.use('ggplot') # Setting default style\n",
    "%matplotlib inline"
   ]
  },
  {
   "cell_type": "code",
   "execution_count": 2,
   "metadata": {},
   "outputs": [
    {
     "data": {
      "text/html": [
       "<div>\n",
       "<style scoped>\n",
       "    .dataframe tbody tr th:only-of-type {\n",
       "        vertical-align: middle;\n",
       "    }\n",
       "\n",
       "    .dataframe tbody tr th {\n",
       "        vertical-align: top;\n",
       "    }\n",
       "\n",
       "    .dataframe thead th {\n",
       "        text-align: right;\n",
       "    }\n",
       "</style>\n",
       "<table border=\"1\" class=\"dataframe\">\n",
       "  <thead>\n",
       "    <tr style=\"text-align: right;\">\n",
       "      <th></th>\n",
       "      <th>Population</th>\n",
       "      <th>Profit</th>\n",
       "    </tr>\n",
       "  </thead>\n",
       "  <tbody>\n",
       "    <tr>\n",
       "      <th>0</th>\n",
       "      <td>6.1101</td>\n",
       "      <td>17.5920</td>\n",
       "    </tr>\n",
       "    <tr>\n",
       "      <th>1</th>\n",
       "      <td>5.5277</td>\n",
       "      <td>9.1302</td>\n",
       "    </tr>\n",
       "    <tr>\n",
       "      <th>2</th>\n",
       "      <td>8.5186</td>\n",
       "      <td>13.6620</td>\n",
       "    </tr>\n",
       "    <tr>\n",
       "      <th>3</th>\n",
       "      <td>7.0032</td>\n",
       "      <td>11.8540</td>\n",
       "    </tr>\n",
       "    <tr>\n",
       "      <th>4</th>\n",
       "      <td>5.8598</td>\n",
       "      <td>6.8233</td>\n",
       "    </tr>\n",
       "  </tbody>\n",
       "</table>\n",
       "</div>"
      ],
      "text/plain": [
       "   Population   Profit\n",
       "0      6.1101  17.5920\n",
       "1      5.5277   9.1302\n",
       "2      8.5186  13.6620\n",
       "3      7.0032  11.8540\n",
       "4      5.8598   6.8233"
      ]
     },
     "execution_count": 2,
     "metadata": {},
     "output_type": "execute_result"
    }
   ],
   "source": [
    "# Importing data\n",
    "data = pd.read_csv('bike_sharing_data.txt')\n",
    "data.head() # reading top 5 lines of Data"
   ]
  },
  {
   "cell_type": "code",
   "execution_count": 3,
   "metadata": {},
   "outputs": [
    {
     "name": "stdout",
     "output_type": "stream",
     "text": [
      "<class 'pandas.core.frame.DataFrame'>\n",
      "RangeIndex: 97 entries, 0 to 96\n",
      "Data columns (total 2 columns):\n",
      " #   Column      Non-Null Count  Dtype  \n",
      "---  ------      --------------  -----  \n",
      " 0   Population  97 non-null     float64\n",
      " 1   Profit      97 non-null     float64\n",
      "dtypes: float64(2)\n",
      "memory usage: 1.6 KB\n"
     ]
    }
   ],
   "source": [
    "# Getting information about the data\n",
    "data.info()"
   ]
  },
  {
   "cell_type": "markdown",
   "metadata": {},
   "source": [
    "**It can be observed that the data contains 2 Columns; Population and Profit, containing a total 97 instances**"
   ]
  },
  {
   "cell_type": "markdown",
   "metadata": {},
   "source": [
    "## Visualizing the Data"
   ]
  },
  {
   "cell_type": "code",
   "execution_count": 4,
   "metadata": {},
   "outputs": [
    {
     "data": {
      "text/plain": [
       "Text(0, 0.5, 'Profit in $10000s')"
      ]
     },
     "execution_count": 4,
     "metadata": {},
     "output_type": "execute_result"
    },
    {
     "data": {
      "image/png": "[encoded data removed]",
      "text/plain": [
       "<Figure size 720x576 with 1 Axes>"
      ]
     },
     "metadata": {
      "needs_background": "light"
     },
     "output_type": "display_data"
    }
   ],
   "source": [
    "fig, ax = plt.subplots(figsize = (10,8))\n",
    "sns.scatterplot(x='Population', y = 'Profit', data = data, ax=ax)\n",
    "ax.set_title('Profit in $10000s vs City Population in 10000s')\n",
    "ax.set_xlabel('Population in 10000s')\n",
    "ax.set_ylabel('Profit in $10000s')"
   ]
  },
  {
   "cell_type": "markdown",
   "metadata": {},
   "source": [
    "* **Data Preparation Phase:**\n",
    "    \n",
    "    In this phase we will prepare the data for modeling. First we will segregate the data in 2 parts, first part the independent variable/s or feature/s or predictor variable/s and the other - dependent variable or response variable. After this segregation we will add an intercept or bias variable equal to 1 for each instance in the dataset."
   ]
  },
  {
   "cell_type": "code",
   "execution_count": 5,
   "metadata": {},
   "outputs": [],
   "source": [
    "m = len(data) #number of instances\n",
    "X= np.append(np.ones((m,1)), data.Population.values.reshape(m,1), axis=1) # adding the intercept term \n",
    "y=data.Profit.values.reshape(m,1)\n",
    "theta=np.zeros((2,1)) #our initial Theta"
   ]
  },
  {
   "cell_type": "markdown",
   "metadata": {},
   "source": [
    "* **Model Preparation Phase:**\n",
    "\n",
    "    During this phase we will build a univariate regression model to predict the Profit based on the population of cities"
   ]
  },
  {
   "cell_type": "markdown",
   "metadata": {},
   "source": [
    "### Simple Linear Regression\n",
    "\n",
    "$h_{\\theta}(x)$ is the hypothesis and given by the linear model\n",
    "\n",
    "$$h_{\\theta}(x) = \\theta^Tx = \\theta_0x_0 + \\theta_1x_1$$\n",
    "The $\\theta$ values are \"weights\" and $x_0$ is the bias term\n",
    "\n",
    "\n",
    "The objective of linear regression is to minimize the cost function which is given by:\n",
    "\n",
    "$$J(\\theta) = \\frac{1}{2m} \\sum_{i=1}^m (h_\\theta(x^{(i)}) - y^{(i)} )^2$$\n",
    "\n",
    "where m is the number of samples in the data"
   ]
  },
  {
   "cell_type": "code",
   "execution_count": 6,
   "metadata": {},
   "outputs": [],
   "source": [
    "def cost_function(X, y, theta):\n",
    "    \"\"\"\n",
    "    Takes the inputs:\n",
    "    X: Feature matrix of shape (m,2)\n",
    "    y: Respose variable of shape (m,1)\n",
    "    theta: Weights of shape(2,1)\n",
    "    \n",
    "    Outputs: \n",
    "    \n",
    "    cost\n",
    "    \n",
    "    \"\"\"\n",
    "    \n",
    "    m = len(y)\n",
    "    h_theta = X.dot(theta)\n",
    "    error = h_theta-y\n",
    "    cost = 1/(2*m)*((error).T).dot((error))\n",
    "    cost = np.squeeze(cost).tolist()\n",
    "    return cost"
   ]
  },
  {
   "cell_type": "markdown",
   "metadata": {},
   "source": [
    "#### Updating the weights\n",
    "\n",
    "To update the weight vector $\\theta$, gradient descent is applied to iteratively improve your model's predictions.  \n",
    "The gradient of the cost function $J$ with respect to one of the weights $\\theta_j$ is:\n",
    "\n",
    "$$\\nabla_{\\theta_j}J(\\theta) = \\frac{1}{m} \\sum_{i=1}^m(h^{(i)}-y^{(i)})x_j $$\n",
    "* 'i' is the index across all 'm' training examples.\n",
    "* 'j' is the index of the weight $\\theta_j$, so $x_j$ is the feature associated with weight $\\theta_j$\n",
    "\n",
    "* To update the weight $\\theta_j$, we adjust it by subtracting a fraction of the gradient determined by $\\alpha$:\n",
    "$$\\theta_j = \\theta_j - \\alpha \\times \\nabla_{\\theta_j}J(\\theta) $$\n",
    "* The learning rate $\\alpha$ is a value that we choose to control how big a single update will be.\n",
    "\n",
    "Hence, compuationally to minimize the cost function $J(\\theta)$ the equation below is updated and repeated until the convergence is met\n",
    "        \n",
    "$\\theta_j := \\theta_j - \\alpha \\frac{1}{m} \\sum_{i=1}^m (h_{\\theta}(x^{(i)}) - y^{(i)})x_j^{(i)}$ (simultaneously update $\\theta_j$ for all $j$)."
   ]
  },
  {
   "cell_type": "code",
   "execution_count": 7,
   "metadata": {},
   "outputs": [
    {
     "data": {
      "text/plain": [
       "32.07273387745567"
      ]
     },
     "execution_count": 7,
     "metadata": {},
     "output_type": "execute_result"
    }
   ],
   "source": [
    "# Testing our Cost Function with intial values of theta which are [0,0]\n",
    "cost_function(X, y, theta)"
   ]
  },
  {
   "cell_type": "code",
   "execution_count": 8,
   "metadata": {},
   "outputs": [],
   "source": [
    "def gradient_descent(X,y, theta, alpha, num_iters):\n",
    "    '''\n",
    "        Input:\n",
    "        X: matrix of features which is (m,2)\n",
    "        y: corresponding labels of the input matrix x, dimensions (m,1)\n",
    "        theta: weight vector of dimension (2,1)\n",
    "        alpha: learning rate\n",
    "        num_iters: number of iterations we want to train our model for\n",
    "    Output:\n",
    "        costs: all the costs that we calculated during the gradient decent algorithm\n",
    "        theta: your final weight vector\n",
    "    '''\n",
    "    m = len(y)\n",
    "    costs=[]\n",
    "    for i in range(num_iters):\n",
    "        h_theta = X.dot(theta)\n",
    "        delta = np.dot(X.transpose(),(h_theta-y))\n",
    "        theta -=alpha * 1/m*delta               #updating the theta vector\n",
    "        costs.append(cost_function(X, y, theta))\n",
    "    return theta, costs"
   ]
  },
  {
   "cell_type": "code",
   "execution_count": 9,
   "metadata": {},
   "outputs": [
    {
     "name": "stdout",
     "output_type": "stream",
     "text": [
      "h(x) = -3.79 + 1.18x1\n"
     ]
    }
   ],
   "source": [
    "theta , costs = gradient_descent(X, y , theta, alpha = 0.01, num_iters = 2000)\n",
    "print('h(x) = {} + {}x1'.format(str(round(theta[0,0], 2)), str(round(theta[1,0],2))))"
   ]
  },
  {
   "cell_type": "markdown",
   "metadata": {},
   "source": [
    "* **Model Evaluation Phase:**\n",
    "    In this phase, we will see how the model has converged over the number of iterations and whether the regression is able to explain our model\n",
    "\n",
    "### Visualising the Cost Function $J(\\theta)$"
   ]
  },
  {
   "cell_type": "code",
   "execution_count": 10,
   "metadata": {},
   "outputs": [
    {
     "data": {
      "text/plain": [
       "Text(0.5, 1.0, 'Values of the Cost Function over Iterations of Gradient Decent')"
      ]
     },
     "execution_count": 10,
     "metadata": {},
     "output_type": "execute_result"
    },
    {
     "data": {
      "image/png": "[encoded data removed]",
      "text/plain": [
       "<Figure size 720x576 with 1 Axes>"
      ]
     },
     "metadata": {
      "needs_background": "light"
     },
     "output_type": "display_data"
    }
   ],
   "source": [
    "plt.figure(figsize = (10,8))\n",
    "plt.plot(costs)\n",
    "plt.xlabel('Number of Iterations')\n",
    "plt.ylabel(\"$J(\\Theta)$\")\n",
    "plt.title(\"Values of the Cost Function over Iterations of Gradient Decent\")"
   ]
  },
  {
   "cell_type": "markdown",
   "metadata": {},
   "source": [
    "### Visualizing our Model using Regression Line "
   ]
  },
  {
   "cell_type": "code",
   "execution_count": 11,
   "metadata": {},
   "outputs": [
    {
     "data": {
      "text/plain": [
       "Text(0.5, 1.0, 'Linear Regression Fit')"
      ]
     },
     "execution_count": 11,
     "metadata": {},
     "output_type": "execute_result"
    },
    {
     "data": {
      "image/png": "[encoded data removed]",
      "text/plain": [
       "<Figure size 720x576 with 1 Axes>"
      ]
     },
     "metadata": {
      "needs_background": "light"
     },
     "output_type": "display_data"
    }
   ],
   "source": [
    "theta = np.squeeze(theta)\n",
    "plt.figure(figsize = (10,8))\n",
    "sns.scatterplot(x='Population', y = 'Profit', data = data)\n",
    "x_value=[x for x in range(5,25)]\n",
    "y_value = [(x*theta[1]+theta[0]) for x in x_value]\n",
    "sns.lineplot(x_value, y_value)\n",
    "plt.xlabel(\"Population in 10000s\")\n",
    "plt.ylabel(\"Profit in $10000s\")\n",
    "plt.title(\"Linear Regression Fit\")"
   ]
  },
  {
   "cell_type": "markdown",
   "metadata": {},
   "source": [
    "**Here we are able to see that the regression line is able explain the variablity of the response variable with respect to predictor variable which is City's Population in this case.**"
   ]
  },
  {
   "cell_type": "markdown",
   "metadata": {},
   "source": [
    "* **Model Deployment Phase:**\n",
    "    \n",
    "    In this phase, we draw inferences/prediction from the model on the unseen values\n",
    "\n",
    "### Inference using the optimized $\\theta$ values\n",
    "\n",
    "$h_\\theta(x) = \\theta^Tx$"
   ]
  },
  {
   "cell_type": "code",
   "execution_count": 12,
   "metadata": {},
   "outputs": [],
   "source": [
    "def predict(x, theta):\n",
    "    y_pred = np.dot(theta.transpose(),x)\n",
    "    return y_pred"
   ]
  },
  {
   "cell_type": "code",
   "execution_count": 13,
   "metadata": {},
   "outputs": [
    {
     "name": "stdout",
     "output_type": "stream",
     "text": [
      "For a population of 40000 people, the model predicts a profit of $9407.83\n",
      "\n",
      "\n",
      "For a population of 83000 people, the model predicts a profit of $60242.97\n"
     ]
    }
   ],
   "source": [
    "y_pred_1 = predict(np.array([1,4]), theta) *10000\n",
    "print(\"For a population of 40000 people, the model predicts a profit of $\"+str(round(y_pred_1,2)))\n",
    "print('\\n')\n",
    "y_pred_2 = predict(np.array([1, 8.3]), theta)*10000\n",
    "print(\"For a population of 83000 people, the model predicts a profit of $\"+str(round(y_pred_2,2)))"
   ]
  },
  {
   "cell_type": "markdown",
   "metadata": {},
   "source": [
    "## The End ##"
   ]
  }
 ],
 "metadata": {
  "kernelspec": {
   "display_name": "Python 3",
   "language": "python",
   "name": "python3"
  },
  "language_info": {
   "codemirror_mode": {
    "name": "ipython",
    "version": 3
   },
   "file_extension": ".py",
   "mimetype": "text/x-python",
   "name": "python",
   "nbconvert_exporter": "python",
   "pygments_lexer": "ipython3",
   "version": "3.7.6"
  }
 },
 "nbformat": 4,
 "nbformat_minor": 4
}
